{
 "cells": [
  {
   "cell_type": "code",
   "execution_count": 1,
   "id": "0ef9ef0c-2c83-448b-8d68-3a081dbb27dd",
   "metadata": {
    "tags": []
   },
   "outputs": [],
   "source": [
    "from datetime import datetime, timedelta\n",
    "import pandas as pd\n",
    "import requests\n",
    "import time\n",
    "from bs4 import BeautifulSoup"
   ]
  },
  {
   "cell_type": "code",
   "execution_count": 7,
   "id": "c0e1235e-9e63-4987-b8f5-16d3e2f3926b",
   "metadata": {
    "tags": []
   },
   "outputs": [],
   "source": [
    "def scrape_raw_jobstreet():\n",
    "    job_roles = [\"data-analyst\", \"data-scientist\",\"data-engineer\",\"product-manager\",\n",
    "                              \"systems-analyst\",\"IT-Security-Analyst\",\"DevOps-Engineer\",\"Cloud-Architect\",\n",
    "                              \"Mobile-App-Developer\",\"Web-Developer\"]\n",
    "    df = pd.DataFrame(columns=['Title', 'URL', 'Company', 'Salary', 'Job Type', 'Searched-Title'])\n",
    "    count = 0\n",
    "    for job in job_roles:\n",
    "        print(\"Scraping for \" + job)\n",
    "        url = \"https://www.jobstreet.com.sg/\" + job + \"-jobs\"\n",
    "        response = requests.get(url)\n",
    "        soup = BeautifulSoup(response.content, \"html.parser\")\n",
    "        find = soup.find('div', {\"id\": \"jobList\"})\n",
    "        # need to change class name because this changes after certain time period\n",
    "        # Old class name\n",
    "        n_pages = find.find('span', {\"class\": 'z1s6m00 _1hbhsw64y y44q7i0 y44q7i1 y44q7i21 _1d0g9qk4 y44q7i7'})\n",
    "        \n",
    "        n_pages = int(n_pages.text.split(\" \")[2].replace(',', '')) // 30 + 1\n",
    "        for p in range(1, n_pages):\n",
    "            if p % 10 == 0:\n",
    "                print(\"Page: \" + str(p))\n",
    "            url = \"https://www.jobstreet.com.sg/\" + job + \"-jobs?pg=\" + str(p)\n",
    "\n",
    "            response = requests.get(url)\n",
    "\n",
    "            soup = BeautifulSoup(response.content, \"html.parser\")\n",
    "\n",
    "            job_listings = soup.find_all('article')\n",
    "            for j in range(len(job_listings)):\n",
    "                jobs = []\n",
    "                jobs.append(job_listings[j].find('h1').text)\n",
    "                job_description = \"https://www.jobstreet.com.sg\" + str(job_listings[j].find('a', href=True)['href'])\n",
    "                jobs.append(job_description)\n",
    "                \n",
    "                # need to change class name because this changes after certain time period\n",
    "                company = job_listings[j].find(\"span\", {\"class\": \"z1s6m00 _17dyj7u1 _1hbhsw64y _1hbhsw60 _1hbhsw6r\"})\n",
    "                \n",
    "                if company != None:\n",
    "                    jobs.append(company.text)\n",
    "                # location_salary = job_listings[j].find_all(\"span\", {\"class\": \"z1s6m00 _1hbhsw64u y44q7i0 y44q7i3 y44q7i21 y44q7ih\"})\n",
    "                location_salary = job_listings[j].find_all(\"span\", {\"class\": \"z1s6m00 _1hbhsw64y y44q7i0 y44q7i3 y44q7i21 y44q7ih\"})\n",
    "                if len(location_salary) > 1:\n",
    "                    jobs.append(location_salary[1].text)\n",
    "                else: \n",
    "                    continue\n",
    "                jobs.append(job_listings[j].find('dl').find_all('a')[-1].text)\n",
    "                jobs.append(job)\n",
    "                if len(jobs) == 6:\n",
    "                    df.loc[count] = jobs\n",
    "                    count += 1\n",
    "        #     break\n",
    "        # break\n",
    "    return df"
   ]
  },
  {
   "cell_type": "code",
   "execution_count": 3,
   "id": "5e4b6fe7-80a1-44b5-ba37-df702b75a400",
   "metadata": {
    "tags": []
   },
   "outputs": [
    {
     "name": "stdout",
     "output_type": "stream",
     "text": [
      "Scraping for data-analyst\n"
     ]
    }
   ],
   "source": [
    "df = scrape_raw_jobstreet()"
   ]
  },
  {
   "cell_type": "code",
   "execution_count": 4,
   "id": "34ebdc12-f52f-4db3-b870-1172794b972d",
   "metadata": {
    "tags": []
   },
   "outputs": [],
   "source": [
    "# converting lower_bound and upper_bound to correct format and type\n",
    "def convert_lower_bound(string):\n",
    "    try:\n",
    "        success = True\n",
    "        if string[-1] == 'K':\n",
    "            a = string[:-1]\n",
    "            return float(a) * 1000\n",
    "        elif string[-1] == 'M':\n",
    "            a = string[:-1]\n",
    "            return float(a) * 1000000\n",
    "        else:\n",
    "            return float(string)\n",
    "    except (ValueError, IndexError):\n",
    "        return 0\n",
    "\n",
    "def data_processing(df):\n",
    "    print(\"Scraping Done -> Starting to clean data\")\n",
    "    df['Currency'] = df['Salary'].str.split(' ').str[0:3]\n",
    "    df['Lower_Bound'] = df['Salary'].str.split(' - ').str[0].str.split(' ').str[-1]\n",
    "    df['Frequency'] = df['Salary'].str.split(' - ').str[1].str.split(' ').str[1].str.replace(',','')\n",
    "    df['Upper_Bound'] = df['Salary'].str.split(' ').str[-2]\n",
    "    \n",
    "    # Making Currency in correct format\n",
    "    df['Currency'] = df['Currency'].apply(lambda x: x[0])\n",
    "    df['Currency'] = df['Currency'].str[:3]\n",
    "    \n",
    "    df['Lower_Bound'] = df['Lower_Bound'].str[4:]\n",
    "    df['Lower_Bound'] = df['Lower_Bound'].apply(lambda x: convert_lower_bound(x))\n",
    "    df['Upper_Bound'] = df['Upper_Bound'].apply(lambda x: float(x.replace(',', \"\")))\n",
    "    \n",
    "    # Adding Website column to all rows and dropping all foreign rows with foreign currencies\n",
    "    df['Website'] = ['JobStreet'] * len(df)\n",
    "    df = df[df['Currency'] == \"SGD\"]\n",
    "    \n",
    "    # Sorting Columns in specified order\n",
    "    df = df[['Title', 'Searched-Title', 'Company', 'Lower_Bound', 'Upper_Bound', 'Frequency', 'Job Type', 'Website', 'URL']]\n",
    "    \n",
    "    # Capitalising Frequency Column\n",
    "    df['Frequency'] = df['Frequency'].str.capitalize()\n",
    "    \n",
    "    # Mapping Searched Title to specified titles\n",
    "    job_roles_dict = {\"data-analyst\": \"Data Analyst\", \"data-scientist\": \"Data Scientist\", \"data-engineer\": \"Data Engineer\", \"product-manager\": \"Product Manager\",\n",
    "                              \"systems-analyst\": \"Systems Analyst\", \"IT-Security-Analyst\": \"IT Security Analyst\", \"DevOps-Engineer\": \"DevOps Engineer\",\n",
    "             \"Cloud-Architect\": \"Cloud Architect\", \"Mobile-App-Developer\": \"Mobile App Developer\", \"Web-Developer\": \"Web Developer\"}\n",
    "    df['Searched-Title'] = df['Searched-Title'].map(job_roles_dict)\n",
    "    \n",
    "    # Renaming the Columns\n",
    "    df = df.set_axis(['Job Title', 'Searched Job Title', 'Company Name', 'Salary Lower Bound',\n",
    "                 'Salary Upper Bound', 'Salary Frequency', 'Job Type', 'Website', 'URL'], axis=1)\n",
    "    return df"
   ]
  },
  {
   "cell_type": "code",
   "execution_count": 5,
   "id": "710ba75b-96ff-4ba9-92b7-20db4fcad4c8",
   "metadata": {
    "tags": []
   },
   "outputs": [
    {
     "name": "stdout",
     "output_type": "stream",
     "text": [
      "Scraping Done -> Starting to clean data\n"
     ]
    }
   ],
   "source": [
    "new_df = data_processing(df)"
   ]
  },
  {
   "cell_type": "code",
   "execution_count": 6,
   "id": "087cf6a6-7dd3-4fd1-8eb5-806694f852b8",
   "metadata": {
    "tags": []
   },
   "outputs": [
    {
     "data": {
      "text/html": [
       "<div>\n",
       "<style scoped>\n",
       "    .dataframe tbody tr th:only-of-type {\n",
       "        vertical-align: middle;\n",
       "    }\n",
       "\n",
       "    .dataframe tbody tr th {\n",
       "        vertical-align: top;\n",
       "    }\n",
       "\n",
       "    .dataframe thead th {\n",
       "        text-align: right;\n",
       "    }\n",
       "</style>\n",
       "<table border=\"1\" class=\"dataframe\">\n",
       "  <thead>\n",
       "    <tr style=\"text-align: right;\">\n",
       "      <th></th>\n",
       "      <th>Job Title</th>\n",
       "      <th>Searched Job Title</th>\n",
       "      <th>Company Name</th>\n",
       "      <th>Salary Lower Bound</th>\n",
       "      <th>Salary Upper Bound</th>\n",
       "      <th>Salary Frequency</th>\n",
       "      <th>Job Type</th>\n",
       "      <th>Website</th>\n",
       "      <th>URL</th>\n",
       "    </tr>\n",
       "  </thead>\n",
       "  <tbody>\n",
       "    <tr>\n",
       "      <th>0</th>\n",
       "      <td>Data Analyst Intern (Business Intelligence)</td>\n",
       "      <td>Data Analyst</td>\n",
       "      <td>MVL Foundation Pte Ltd - TADA Mobility</td>\n",
       "      <td>800.0</td>\n",
       "      <td>1000.0</td>\n",
       "      <td>Monthly</td>\n",
       "      <td>Internship</td>\n",
       "      <td>JobStreet</td>\n",
       "      <td>https://www.jobstreet.com.sg/en/job/data-analy...</td>\n",
       "    </tr>\n",
       "    <tr>\n",
       "      <th>1</th>\n",
       "      <td>Senior Data Analyst</td>\n",
       "      <td>Data Analyst</td>\n",
       "      <td>REDFIN TECHNOLOGIES PL</td>\n",
       "      <td>5000.0</td>\n",
       "      <td>10000.0</td>\n",
       "      <td>Monthly</td>\n",
       "      <td>Full-Time</td>\n",
       "      <td>JobStreet</td>\n",
       "      <td>https://www.jobstreet.com.sg/en/job/senior-dat...</td>\n",
       "    </tr>\n",
       "    <tr>\n",
       "      <th>2</th>\n",
       "      <td>Power BI and Data Visualization Analyst</td>\n",
       "      <td>Data Analyst</td>\n",
       "      <td>AFON Pte Ltd</td>\n",
       "      <td>6000.0</td>\n",
       "      <td>8000.0</td>\n",
       "      <td>Monthly</td>\n",
       "      <td>Full-Time</td>\n",
       "      <td>JobStreet</td>\n",
       "      <td>https://www.jobstreet.com.sg/en/job/power-bi-a...</td>\n",
       "    </tr>\n",
       "    <tr>\n",
       "      <th>3</th>\n",
       "      <td>Junior Business Analyst</td>\n",
       "      <td>Data Analyst</td>\n",
       "      <td>Tan Chong &amp; Sons Motor (S) Pte Ltd</td>\n",
       "      <td>3500.0</td>\n",
       "      <td>4000.0</td>\n",
       "      <td>Monthly</td>\n",
       "      <td>Full-Time</td>\n",
       "      <td>JobStreet</td>\n",
       "      <td>https://www.jobstreet.com.sg/en/job/junior-bus...</td>\n",
       "    </tr>\n",
       "    <tr>\n",
       "      <th>4</th>\n",
       "      <td>Business Analyst</td>\n",
       "      <td>Data Analyst</td>\n",
       "      <td>Toppan Security Systems Pte. Ltd.</td>\n",
       "      <td>7000.0</td>\n",
       "      <td>10000.0</td>\n",
       "      <td>Monthly</td>\n",
       "      <td>Full-Time</td>\n",
       "      <td>JobStreet</td>\n",
       "      <td>https://www.jobstreet.com.sg/en/job/business-a...</td>\n",
       "    </tr>\n",
       "  </tbody>\n",
       "</table>\n",
       "</div>"
      ],
      "text/plain": [
       "                                     Job Title Searched Job Title  \\\n",
       "0  Data Analyst Intern (Business Intelligence)       Data Analyst   \n",
       "1                          Senior Data Analyst       Data Analyst   \n",
       "2      Power BI and Data Visualization Analyst       Data Analyst   \n",
       "3                      Junior Business Analyst       Data Analyst   \n",
       "4                             Business Analyst       Data Analyst   \n",
       "\n",
       "                             Company Name  Salary Lower Bound  \\\n",
       "0  MVL Foundation Pte Ltd - TADA Mobility               800.0   \n",
       "1                  REDFIN TECHNOLOGIES PL              5000.0   \n",
       "2                            AFON Pte Ltd              6000.0   \n",
       "3      Tan Chong & Sons Motor (S) Pte Ltd              3500.0   \n",
       "4       Toppan Security Systems Pte. Ltd.              7000.0   \n",
       "\n",
       "   Salary Upper Bound Salary Frequency    Job Type    Website  \\\n",
       "0              1000.0          Monthly  Internship  JobStreet   \n",
       "1             10000.0          Monthly   Full-Time  JobStreet   \n",
       "2              8000.0          Monthly   Full-Time  JobStreet   \n",
       "3              4000.0          Monthly   Full-Time  JobStreet   \n",
       "4             10000.0          Monthly   Full-Time  JobStreet   \n",
       "\n",
       "                                                 URL  \n",
       "0  https://www.jobstreet.com.sg/en/job/data-analy...  \n",
       "1  https://www.jobstreet.com.sg/en/job/senior-dat...  \n",
       "2  https://www.jobstreet.com.sg/en/job/power-bi-a...  \n",
       "3  https://www.jobstreet.com.sg/en/job/junior-bus...  \n",
       "4  https://www.jobstreet.com.sg/en/job/business-a...  "
      ]
     },
     "execution_count": 6,
     "metadata": {},
     "output_type": "execute_result"
    }
   ],
   "source": [
    "new_df.head()"
   ]
  }
 ],
 "metadata": {
  "kernelspec": {
   "display_name": "Python 3 (ipykernel)",
   "language": "python",
   "name": "python3"
  },
  "language_info": {
   "codemirror_mode": {
    "name": "ipython",
    "version": 3
   },
   "file_extension": ".py",
   "mimetype": "text/x-python",
   "name": "python",
   "nbconvert_exporter": "python",
   "pygments_lexer": "ipython3",
   "version": "3.10.11"
  }
 },
 "nbformat": 4,
 "nbformat_minor": 5
}
